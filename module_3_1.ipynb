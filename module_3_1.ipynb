{
 "cells": [
  {
   "cell_type": "code",
   "execution_count": 1,
   "metadata": {},
   "outputs": [
    {
     "data": {
      "text/plain": [
       "tensor([ 0, 61,  1, 61,  2, 61,  3])"
      ]
     },
     "execution_count": 1,
     "metadata": {},
     "output_type": "execute_result"
    }
   ],
   "source": [
    "import torch\n",
    "from usta_model import UstaModel\n",
    "from usta_tokenizer import UstaTokenizer\n",
    "\n",
    "u_tokenizer = UstaTokenizer(\"tokenizer.json\")\n",
    "\n",
    "prompt = \"the capital of united\"\n",
    "\n",
    "tokens = u_tokenizer.encode(prompt)\n",
    "tokens"
   ]
  },
  {
   "cell_type": "code",
   "execution_count": 2,
   "metadata": {},
   "outputs": [
    {
     "data": {
      "text/plain": [
       "torch.Size([7, 64])"
      ]
     },
     "execution_count": 2,
     "metadata": {},
     "output_type": "execute_result"
    }
   ],
   "source": [
    "torch.manual_seed(1)\n",
    "u_model = UstaModel(vocab_size=len(u_tokenizer.vocab), embedding_dim=4, num_heads=2, context_length=32, num_layers=3)\n",
    "\n",
    "out = u_model(tokens)\n",
    "out.shape"
   ]
  },
  {
   "cell_type": "code",
   "execution_count": 3,
   "metadata": {},
   "outputs": [
    {
     "data": {
      "text/plain": [
       "UstaModel(\n",
       "  (embedding): UstaEmbedding(\n",
       "    (embedding): Embedding(64, 4)\n",
       "  )\n",
       "  (layers): Sequential(\n",
       "    (0): UstaDecoderBlock(\n",
       "      (self_attention): UstaMultiHeadAttention(\n",
       "        (multi_head_attention): MultiheadAttention(\n",
       "          (out_proj): NonDynamicallyQuantizableLinear(in_features=4, out_features=4, bias=True)\n",
       "        )\n",
       "        (projection): Linear(in_features=4, out_features=4, bias=True)\n",
       "      )\n",
       "      (norm1): UstaLayerNorm()\n",
       "      (mlp): UstaMLP(\n",
       "        (gate_proj): Linear(in_features=4, out_features=4, bias=True)\n",
       "        (up_proj): Linear(in_features=4, out_features=4, bias=True)\n",
       "        (down_proj): Linear(in_features=4, out_features=4, bias=True)\n",
       "        (gelu): GELU()\n",
       "      )\n",
       "      (norm2): UstaLayerNorm()\n",
       "    )\n",
       "    (1): UstaDecoderBlock(\n",
       "      (self_attention): UstaMultiHeadAttention(\n",
       "        (multi_head_attention): MultiheadAttention(\n",
       "          (out_proj): NonDynamicallyQuantizableLinear(in_features=4, out_features=4, bias=True)\n",
       "        )\n",
       "        (projection): Linear(in_features=4, out_features=4, bias=True)\n",
       "      )\n",
       "      (norm1): UstaLayerNorm()\n",
       "      (mlp): UstaMLP(\n",
       "        (gate_proj): Linear(in_features=4, out_features=4, bias=True)\n",
       "        (up_proj): Linear(in_features=4, out_features=4, bias=True)\n",
       "        (down_proj): Linear(in_features=4, out_features=4, bias=True)\n",
       "        (gelu): GELU()\n",
       "      )\n",
       "      (norm2): UstaLayerNorm()\n",
       "    )\n",
       "    (2): UstaDecoderBlock(\n",
       "      (self_attention): UstaMultiHeadAttention(\n",
       "        (multi_head_attention): MultiheadAttention(\n",
       "          (out_proj): NonDynamicallyQuantizableLinear(in_features=4, out_features=4, bias=True)\n",
       "        )\n",
       "        (projection): Linear(in_features=4, out_features=4, bias=True)\n",
       "      )\n",
       "      (norm1): UstaLayerNorm()\n",
       "      (mlp): UstaMLP(\n",
       "        (gate_proj): Linear(in_features=4, out_features=4, bias=True)\n",
       "        (up_proj): Linear(in_features=4, out_features=4, bias=True)\n",
       "        (down_proj): Linear(in_features=4, out_features=4, bias=True)\n",
       "        (gelu): GELU()\n",
       "      )\n",
       "      (norm2): UstaLayerNorm()\n",
       "    )\n",
       "  )\n",
       "  (lm_head): Linear(in_features=4, out_features=64, bias=True)\n",
       ")"
      ]
     },
     "execution_count": 3,
     "metadata": {},
     "output_type": "execute_result"
    }
   ],
   "source": [
    "u_model"
   ]
  },
  {
   "cell_type": "code",
   "execution_count": 4,
   "metadata": {},
   "outputs": [
    {
     "data": {
      "text/plain": [
       "(tensor(0.0312, grad_fn=<MaxBackward0>),\n",
       " tensor(55),\n",
       " tensor([0.0281, 0.0205, 0.0108, 0.0083, 0.0149, 0.0074, 0.0086, 0.0084, 0.0206,\n",
       "         0.0135, 0.0196, 0.0203, 0.0188, 0.0105, 0.0195, 0.0125, 0.0145, 0.0164,\n",
       "         0.0175, 0.0076, 0.0211, 0.0132, 0.0168, 0.0211, 0.0089, 0.0240, 0.0198,\n",
       "         0.0214, 0.0103, 0.0137, 0.0134, 0.0191, 0.0115, 0.0074, 0.0104, 0.0190,\n",
       "         0.0158, 0.0125, 0.0139, 0.0231, 0.0146, 0.0106, 0.0155, 0.0167, 0.0165,\n",
       "         0.0098, 0.0075, 0.0132, 0.0129, 0.0264, 0.0228, 0.0072, 0.0232, 0.0115,\n",
       "         0.0164, 0.0312, 0.0187, 0.0173, 0.0179, 0.0136, 0.0259, 0.0074, 0.0151,\n",
       "         0.0132], grad_fn=<SoftmaxBackward0>))"
      ]
     },
     "execution_count": 4,
     "metadata": {},
     "output_type": "execute_result"
    }
   ],
   "source": [
    "import torch\n",
    "\n",
    "probs = torch.softmax(out[-1], dim=-1)\n",
    "max_prob, max_index = torch.max(probs, dim=-1)\n",
    "max_prob, max_index, probs"
   ]
  },
  {
   "cell_type": "code",
   "execution_count": 5,
   "metadata": {},
   "outputs": [
    {
     "name": "stderr",
     "output_type": "stream",
     "text": [
      "/Library/Frameworks/Python.framework/Versions/3.13/lib/python3.13/site-packages/tqdm/auto.py:21: TqdmWarning: IProgress not found. Please update jupyter and ipywidgets. See https://ipywidgets.readthedocs.io/en/stable/user_install.html\n",
      "  from .autonotebook import tqdm as notebook_tqdm\n"
     ]
    }
   ],
   "source": [
    "# Load model directly\n",
    "from transformers import AutoTokenizer, AutoModelForCausalLM\n",
    "\n",
    "q_tokenizer = AutoTokenizer.from_pretrained(\"Qwen/Qwen3-0.6B\")\n",
    "q_model = AutoModelForCausalLM.from_pretrained(\"Qwen/Qwen3-0.6B\")"
   ]
  },
  {
   "cell_type": "code",
   "execution_count": 6,
   "metadata": {},
   "outputs": [
    {
     "data": {
      "text/plain": [
       "[1782, 6722, 315, 28192]"
      ]
     },
     "execution_count": 6,
     "metadata": {},
     "output_type": "execute_result"
    }
   ],
   "source": [
    "q_tokens = q_tokenizer.encode(prompt)\n",
    "q_tokens"
   ]
  },
  {
   "cell_type": "code",
   "execution_count": 7,
   "metadata": {},
   "outputs": [
    {
     "name": "stderr",
     "output_type": "stream",
     "text": [
      "The attention mask is not set and cannot be inferred from input because pad token is same as eos token. As a consequence, you may observe unexpected behavior. Please pass your input's `attention_mask` to obtain reliable results.\n"
     ]
    },
    {
     "data": {
      "text/plain": [
       "tensor([[ 1782,  6722,   315, 28192,  5302,   315,   374,   642,   374,   198,\n",
       "           785,  6722,   315,   279,  3639,  4180,   315, 22235,   374,  1112,\n",
       "            30,  6771,   752,  1744]])"
      ]
     },
     "execution_count": 7,
     "metadata": {},
     "output_type": "execute_result"
    }
   ],
   "source": [
    "q_model.generate(torch.tensor([q_tokens]))"
   ]
  },
  {
   "cell_type": "code",
   "execution_count": 8,
   "metadata": {},
   "outputs": [],
   "source": [
    "# input = [1782, 6722, 315, 28192]\n",
    "# output = [38297, 315, 279, 5302]\n",
    "# expected = [6722, 315, 28192, 5302]"
   ]
  },
  {
   "cell_type": "code",
   "execution_count": 9,
   "metadata": {},
   "outputs": [
    {
     "data": {
      "text/plain": [
       "CausalLMOutputWithPast(loss=None, logits=tensor([[[ 4.3589,  4.4961,  3.3736,  ...,  0.9272,  0.9272,  0.9272],\n",
       "         [ 6.2842,  9.0974,  2.1320,  ..., -2.9427, -2.9427, -2.9427],\n",
       "         [ 4.8185,  6.7840,  1.7485,  ..., -2.8132, -2.8133, -2.8133],\n",
       "         [ 5.2263,  7.3146,  3.2717,  ..., -3.0105, -3.0105, -3.0105]]],\n",
       "       grad_fn=<UnsafeViewBackward0>), past_key_values=DynamicCache(layers=[<transformers.cache_utils.DynamicLayer object at 0x137e83290>, <transformers.cache_utils.DynamicLayer object at 0x137e82e10>, <transformers.cache_utils.DynamicLayer object at 0x137e820f0>, <transformers.cache_utils.DynamicLayer object at 0x137e83f50>, <transformers.cache_utils.DynamicLayer object at 0x1449a2f30>, <transformers.cache_utils.DynamicLayer object at 0x137ec8c50>, <transformers.cache_utils.DynamicLayer object at 0x132c4dd90>, <transformers.cache_utils.DynamicLayer object at 0x132c4df70>, <transformers.cache_utils.DynamicLayer object at 0x132c4e690>, <transformers.cache_utils.DynamicLayer object at 0x132c4dfd0>, <transformers.cache_utils.DynamicLayer object at 0x132c4e090>, <transformers.cache_utils.DynamicLayer object at 0x132c4de50>, <transformers.cache_utils.DynamicLayer object at 0x132c4e030>, <transformers.cache_utils.DynamicLayer object at 0x132c4ddf0>, <transformers.cache_utils.DynamicLayer object at 0x132c4dd30>, <transformers.cache_utils.DynamicLayer object at 0x132c4dc70>, <transformers.cache_utils.DynamicLayer object at 0x132c4e270>, <transformers.cache_utils.DynamicLayer object at 0x132c4dcd0>, <transformers.cache_utils.DynamicLayer object at 0x132c4daf0>, <transformers.cache_utils.DynamicLayer object at 0x132c4dc10>, <transformers.cache_utils.DynamicLayer object at 0x132c4d8b0>, <transformers.cache_utils.DynamicLayer object at 0x132c4d010>, <transformers.cache_utils.DynamicLayer object at 0x132c4cbf0>, <transformers.cache_utils.DynamicLayer object at 0x132c4c230>, <transformers.cache_utils.DynamicLayer object at 0x132c4db50>, <transformers.cache_utils.DynamicLayer object at 0x132c4c9b0>, <transformers.cache_utils.DynamicLayer object at 0x132c4ccb0>, <transformers.cache_utils.DynamicLayer object at 0x132c4e630>]), hidden_states=None, attentions=None)"
      ]
     },
     "execution_count": 9,
     "metadata": {},
     "output_type": "execute_result"
    }
   ],
   "source": [
    "q_out = q_model(torch.tensor([q_tokens]))\n",
    "q_out"
   ]
  },
  {
   "cell_type": "code",
   "execution_count": 10,
   "metadata": {},
   "outputs": [
    {
     "data": {
      "text/plain": [
       "torch.Size([1, 4, 151936])"
      ]
     },
     "execution_count": 10,
     "metadata": {},
     "output_type": "execute_result"
    }
   ],
   "source": [
    "q_out.logits.shape"
   ]
  },
  {
   "cell_type": "code",
   "execution_count": 11,
   "metadata": {},
   "outputs": [
    {
     "data": {
      "text/plain": [
       "torch.Size([151936])"
      ]
     },
     "execution_count": 11,
     "metadata": {},
     "output_type": "execute_result"
    }
   ],
   "source": [
    "q_out.logits[0, 0, :].shape"
   ]
  },
  {
   "cell_type": "code",
   "execution_count": 12,
   "metadata": {},
   "outputs": [
    {
     "data": {
      "text/plain": [
       "(tensor(0.3644, grad_fn=<MaxBackward0>),\n",
       " tensor(279),\n",
       " tensor([7.1116e-06, 5.0768e-05, 3.3015e-07,  ..., 3.4478e-09, 3.4478e-09,\n",
       "         3.4478e-09], grad_fn=<SoftmaxBackward0>))"
      ]
     },
     "execution_count": 12,
     "metadata": {},
     "output_type": "execute_result"
    }
   ],
   "source": [
    "probs = torch.softmax(q_out.logits[0, 2, :], dim=-1)\n",
    "max_prob, max_index = torch.max(probs, dim=-1)\n",
    "max_prob, max_index, probs"
   ]
  },
  {
   "cell_type": "code",
   "execution_count": 13,
   "metadata": {},
   "outputs": [
    {
     "data": {
      "text/plain": [
       "' the'"
      ]
     },
     "execution_count": 13,
     "metadata": {},
     "output_type": "execute_result"
    }
   ],
   "source": [
    "q_tokenizer.decode([max_index])"
   ]
  },
  {
   "cell_type": "code",
   "execution_count": 14,
   "metadata": {},
   "outputs": [],
   "source": [
    "# Load model directly\n",
    "from transformers import AutoTokenizer, AutoModelForCausalLM\n",
    "\n",
    "g_tokenizer = AutoTokenizer.from_pretrained(\"google/gemma-3-1b-it\")\n",
    "g_model = AutoModelForCausalLM.from_pretrained(\"google/gemma-3-1b-it\")"
   ]
  },
  {
   "cell_type": "code",
   "execution_count": 15,
   "metadata": {},
   "outputs": [
    {
     "data": {
      "text/plain": [
       "[2, 1437, 5279, 529, 26974]"
      ]
     },
     "execution_count": 15,
     "metadata": {},
     "output_type": "execute_result"
    }
   ],
   "source": [
    "g_tokens = g_tokenizer.encode(\"the capital of united\")\n",
    "# input = [2, 1437, 5279, 529, 26974]\n",
    "# output = [107, 2148, 138, 236743, 1786]\n",
    "# expected = [1437, 5279, 529, 26974, 5022]\n",
    "g_tokens"
   ]
  },
  {
   "cell_type": "code",
   "execution_count": 16,
   "metadata": {},
   "outputs": [
    {
     "data": {
      "text/plain": [
       "[2, 5022]"
      ]
     },
     "execution_count": 16,
     "metadata": {},
     "output_type": "execute_result"
    }
   ],
   "source": [
    "g_tokenizer.encode(\" states\")"
   ]
  },
  {
   "cell_type": "code",
   "execution_count": 17,
   "metadata": {},
   "outputs": [
    {
     "data": {
      "text/plain": [
       "'క్ష్'"
      ]
     },
     "execution_count": 17,
     "metadata": {},
     "output_type": "execute_result"
    }
   ],
   "source": [
    "g_tokenizer.decode([156702])"
   ]
  },
  {
   "cell_type": "code",
   "execution_count": 18,
   "metadata": {},
   "outputs": [
    {
     "data": {
      "text/plain": [
       "tensor([[    2,  1437,  5279,   529, 26974,  5022]])"
      ]
     },
     "execution_count": 18,
     "metadata": {},
     "output_type": "execute_result"
    }
   ],
   "source": [
    "g_model.generate(torch.tensor([g_tokens]), max_new_tokens=1)"
   ]
  },
  {
   "cell_type": "code",
   "execution_count": 19,
   "metadata": {},
   "outputs": [
    {
     "data": {
      "text/plain": [
       "torch.Size([1, 5, 262144])"
      ]
     },
     "execution_count": 19,
     "metadata": {},
     "output_type": "execute_result"
    }
   ],
   "source": [
    "g_out = g_model(torch.tensor([g_tokens]))\n",
    "g_out.logits.shape"
   ]
  },
  {
   "cell_type": "code",
   "execution_count": 20,
   "metadata": {},
   "outputs": [
    {
     "data": {
      "text/plain": [
       "(tensor(0.6543, grad_fn=<MaxBackward0>),\n",
       " tensor(5022),\n",
       " tensor([1.0801e-16, 1.2916e-08, 5.7721e-10,  ..., 8.2236e-18, 8.6557e-18,\n",
       "         9.9664e-18], grad_fn=<SoftmaxBackward0>))"
      ]
     },
     "execution_count": 20,
     "metadata": {},
     "output_type": "execute_result"
    }
   ],
   "source": [
    "probs = torch.softmax(g_out.logits[0, 4, :], dim=-1)\n",
    "max_prob, max_index = torch.max(probs, dim=-1)\n",
    "max_prob, max_index, probs"
   ]
  }
 ],
 "metadata": {
  "kernelspec": {
   "display_name": "Python 3",
   "language": "python",
   "name": "python3"
  },
  "language_info": {
   "codemirror_mode": {
    "name": "ipython",
    "version": 3
   },
   "file_extension": ".py",
   "mimetype": "text/x-python",
   "name": "python",
   "nbconvert_exporter": "python",
   "pygments_lexer": "ipython3",
   "version": "3.13.5"
  }
 },
 "nbformat": 4,
 "nbformat_minor": 2
}

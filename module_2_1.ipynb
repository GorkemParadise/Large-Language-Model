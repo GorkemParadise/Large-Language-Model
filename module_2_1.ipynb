{
 "cells": [
  {
   "cell_type": "code",
   "execution_count": 54,
   "id": "9be23ed1",
   "metadata": {},
   "outputs": [
    {
     "data": {
      "text/plain": [
       "torch.Size([20, 4])"
      ]
     },
     "execution_count": 54,
     "metadata": {},
     "output_type": "execute_result"
    }
   ],
   "source": [
    "import torch\n",
    "from usta_model import UstaModel\n",
    "from usta_tokenizer import UstaTokenizer\n",
    "\n",
    "u_tokenizer = UstaTokenizer(\"tokenizer.json\")\n",
    "\n",
    "prompt = \"the capital of united states and the capital of france\"\n",
    "\n",
    "tokens = u_tokenizer.encode(prompt)\n",
    "\n",
    "torch.manual_seed(1)\n",
    "u_model = UstaModel(vocab_size=len(u_tokenizer.vocab), embedding_dim=4, context_length=32)\n",
    "\n",
    "sentence_meanings = u_model(tokens)\n",
    "sentence_meanings.shape"
   ]
  },
  {
   "cell_type": "code",
   "execution_count": 55,
   "id": "1440d579",
   "metadata": {},
   "outputs": [
    {
     "data": {
      "text/plain": [
       "(UstaModel(\n",
       "   (embedding): Embedding(64, 4)\n",
       "   (pos_embedding): Embedding(32, 4)\n",
       " ),\n",
       " Gemma3ForCausalLM(\n",
       "   (model): Gemma3TextModel(\n",
       "     (embed_tokens): Gemma3TextScaledWordEmbedding(262144, 1152, padding_idx=0)\n",
       "     (layers): ModuleList(\n",
       "       (0-25): 26 x Gemma3DecoderLayer(\n",
       "         (self_attn): Gemma3Attention(\n",
       "           (q_proj): Linear(in_features=1152, out_features=1024, bias=False)\n",
       "           (k_proj): Linear(in_features=1152, out_features=256, bias=False)\n",
       "           (v_proj): Linear(in_features=1152, out_features=256, bias=False)\n",
       "           (o_proj): Linear(in_features=1024, out_features=1152, bias=False)\n",
       "           (q_norm): Gemma3RMSNorm((256,), eps=1e-06)\n",
       "           (k_norm): Gemma3RMSNorm((256,), eps=1e-06)\n",
       "         )\n",
       "         (mlp): Gemma3MLP(\n",
       "           (gate_proj): Linear(in_features=1152, out_features=6912, bias=False)\n",
       "           (up_proj): Linear(in_features=1152, out_features=6912, bias=False)\n",
       "           (down_proj): Linear(in_features=6912, out_features=1152, bias=False)\n",
       "           (act_fn): PytorchGELUTanh()\n",
       "         )\n",
       "         (input_layernorm): Gemma3RMSNorm((1152,), eps=1e-06)\n",
       "         (post_attention_layernorm): Gemma3RMSNorm((1152,), eps=1e-06)\n",
       "         (pre_feedforward_layernorm): Gemma3RMSNorm((1152,), eps=1e-06)\n",
       "         (post_feedforward_layernorm): Gemma3RMSNorm((1152,), eps=1e-06)\n",
       "       )\n",
       "     )\n",
       "     (norm): Gemma3RMSNorm((1152,), eps=1e-06)\n",
       "     (rotary_emb): Gemma3RotaryEmbedding()\n",
       "     (rotary_emb_local): Gemma3RotaryEmbedding()\n",
       "   )\n",
       "   (lm_head): Linear(in_features=1152, out_features=262144, bias=False)\n",
       " ))"
      ]
     },
     "execution_count": 55,
     "metadata": {},
     "output_type": "execute_result"
    }
   ],
   "source": [
    "from transformers import Gemma3ForCausalLM\n",
    "\n",
    "gemma_model = Gemma3ForCausalLM.from_pretrained(\"google/gemma-3-1b-it\")\n",
    "u_model, gemma_model"
   ]
  },
  {
   "cell_type": "code",
   "execution_count": 56,
   "id": "b05e7688",
   "metadata": {},
   "outputs": [
    {
     "data": {
      "text/plain": [
       "['the',\n",
       " ' ',\n",
       " 'capital',\n",
       " ' ',\n",
       " 'of',\n",
       " ' ',\n",
       " 'united',\n",
       " ' ',\n",
       " 'state',\n",
       " 's',\n",
       " ' ',\n",
       " 'and',\n",
       " ' ',\n",
       " 'the',\n",
       " ' ',\n",
       " 'capital',\n",
       " ' ',\n",
       " 'of',\n",
       " ' ',\n",
       " 'france']"
      ]
     },
     "execution_count": 56,
     "metadata": {},
     "output_type": "execute_result"
    }
   ],
   "source": [
    "u_tokenizer.tokenize(prompt)"
   ]
  },
  {
   "cell_type": "code",
   "execution_count": 57,
   "id": "489c05f6",
   "metadata": {},
   "outputs": [],
   "source": [
    "import plotly.graph_objects as go\n",
    "import plotly.offline as pyo\n",
    "\n",
    "def plot_tokens(sentences_data, title, dims=[0, 1, 2]):\n",
    "    data = [\n",
    "        go.Scatter3d(\n",
    "            x=sentence_data[\"words\"][:, 0],\n",
    "            y=sentence_data[\"words\"][:, 1],\n",
    "            z=sentence_data[\"words\"][:, 2],\n",
    "            mode=\"markers+text\",\n",
    "            marker=dict(\n",
    "                size=6,\n",
    "                color=sentence_data[\"color\"],\n",
    "            ),\n",
    "            text=sentence_data[\"labels\"],\n",
    "            hoverinfo=\"text\",\n",
    "        )   for sentence_data in sentences_data\n",
    "    ]\n",
    "\n",
    "\n",
    "    layout = go.Layout(\n",
    "    scene=dict(\n",
    "        xaxis_title=\"Sertlik\",\n",
    "        yaxis_title=\"Parlaklık\",\n",
    "        zaxis_title=\"Kırmızılık\",\n",
    "        ),\n",
    "        title=title,\n",
    "        width=1000,\n",
    "        height=1000,\n",
    "    )\n",
    "\n",
    "    fig = go.Figure(data=data, layout=layout)\n",
    "    pyo.plot(fig)"
   ]
  },
  {
   "cell_type": "code",
   "execution_count": 58,
   "id": "1b1885ad",
   "metadata": {},
   "outputs": [],
   "source": [
    "u_sentences = [\n",
    "  {\n",
    "    \"words\": sentence_meanings.detach().numpy(),\n",
    "    \"labels\": u_tokenizer.tokenize(prompt),\n",
    "    \"color\": \"red\",\n",
    "  },\n",
    "]\n",
    "\n",
    "plot_tokens(u_sentences, \"Models Context Space\")"
   ]
  },
  {
   "cell_type": "code",
   "execution_count": 59,
   "id": "1fe5326e",
   "metadata": {},
   "outputs": [
    {
     "data": {
      "text/plain": [
       "tensor([[-1.5256, -0.7502, -0.6540, -1.6095],\n",
       "        [-0.2092, -0.2013, -0.7509, -0.0189],\n",
       "        [ 0.9326, -0.2774,  0.3166, -1.6980],\n",
       "        [ 0.7698, -0.1935,  0.1223, -0.0585],\n",
       "        [-0.1228,  0.3777,  1.0470, -0.1133],\n",
       "        [-0.4315, -0.1780,  0.6491, -0.0958],\n",
       "        [-0.1496,  1.1284,  0.2814,  1.3386],\n",
       "        [-0.4106, -0.1555, -0.6625, -0.1292],\n",
       "        [-0.5907, -0.9515, -0.7913, -0.6940],\n",
       "        [-0.3183,  1.2965, -0.8974, -0.5926],\n",
       "        [ 0.5000, -0.1103,  0.5979, -0.1694],\n",
       "        [-0.1583,  0.1584,  0.1103,  0.2478],\n",
       "        [-0.7518, -0.0745,  0.2059, -0.1879],\n",
       "        [-1.1096,  1.3501, -1.2345, -1.1534],\n",
       "        [ 0.1257, -0.0357, -0.7692, -0.1990],\n",
       "        [ 0.7132,  1.5620,  0.6792, -0.7215],\n",
       "        [ 0.6472,  0.0046,  0.4344, -0.2021],\n",
       "        [-0.5514,  0.2102,  0.8985,  0.3336],\n",
       "        [-0.6643,  0.0446,  0.4077, -0.1972],\n",
       "        [ 1.8345,  0.7552,  0.4377,  0.1818]], grad_fn=<CopySlices>)"
      ]
     },
     "execution_count": 59,
     "metadata": {},
     "output_type": "execute_result"
    }
   ],
   "source": [
    "sentence_meanings"
   ]
  },
  {
   "cell_type": "code",
   "execution_count": 60,
   "id": "792b6d47",
   "metadata": {},
   "outputs": [],
   "source": [
    "the_pos = [-1.5256, -0.7502, -0.6540, -1.6095]\n",
    "capital_pos = [ 0.9326, -0.2774,  0.3166, -1.6980]"
   ]
  },
  {
   "cell_type": "code",
   "execution_count": 61,
   "id": "a732be4b",
   "metadata": {},
   "outputs": [
    {
     "data": {
      "text/plain": [
       "(2.4582, 0.4728, 0.9706, 0.08850000000000002)"
      ]
     },
     "execution_count": 61,
     "metadata": {},
     "output_type": "execute_result"
    }
   ],
   "source": [
    "hardness_dist = abs(the_pos[0] - capital_pos[0])\n",
    "brightness_dist = abs(the_pos[1] - capital_pos[1])\n",
    "redness_dist = abs(the_pos[2] - capital_pos[2])\n",
    "blueness_dist = abs(the_pos[3] - capital_pos[3])\n",
    "\n",
    "hardness_dist, brightness_dist, redness_dist, blueness_dist"
   ]
  },
  {
   "cell_type": "code",
   "execution_count": 62,
   "id": "5ec06178",
   "metadata": {},
   "outputs": [
    {
     "data": {
      "text/plain": [
       "3.9901"
      ]
     },
     "execution_count": 62,
     "metadata": {},
     "output_type": "execute_result"
    }
   ],
   "source": [
    "total_dist = hardness_dist + brightness_dist + redness_dist + blueness_dist\n",
    "total_dist"
   ]
  },
  {
   "cell_type": "code",
   "execution_count": 63,
   "id": "94bba3c2",
   "metadata": {},
   "outputs": [],
   "source": [
    "apple = [-1.5256, -0.7502, -0.6540, -1.6095]\n",
    "real_apple = [0.5, -0.7502, -0.6540, -1.6095]"
   ]
  },
  {
   "cell_type": "code",
   "execution_count": 64,
   "id": "d7179107",
   "metadata": {},
   "outputs": [
    {
     "name": "stdout",
     "output_type": "stream",
     "text": [
      "-2.0256\n"
     ]
    },
    {
     "data": {
      "text/plain": [
       "False"
      ]
     },
     "execution_count": 64,
     "metadata": {},
     "output_type": "execute_result"
    }
   ],
   "source": [
    "def is_apple(pos, real_pos):\n",
    "    dist1 = pos[0] - real_pos[0]\n",
    "\n",
    "    print(dist1)\n",
    "\n",
    "    if dist1 > 0:\n",
    "        apple[0] -= 0.5\n",
    "    else:\n",
    "        apple[0] += 0.5\n",
    "\n",
    "\n",
    "    return dist1 > 0 and dist1 < 0.5\n",
    "\n",
    "is_apple(apple, real_apple)"
   ]
  },
  {
   "cell_type": "code",
   "execution_count": 65,
   "id": "7aa6d70a",
   "metadata": {},
   "outputs": [],
   "source": [
    "the_pos = [-1.5256, -0.7502, -0.6540, -1.6095]\n",
    "capital_pos = [0.9326, -0.2774,  0.3166, -1.6980]"
   ]
  },
  {
   "cell_type": "code",
   "execution_count": 66,
   "id": "fdfc3bc1",
   "metadata": {},
   "outputs": [
    {
     "data": {
      "text/plain": [
       "(-1.4227745600000001,\n",
       " 0.20810547999999998,\n",
       " -0.2070564,\n",
       " 2.7329309999999998,\n",
       " 1.3112055199999997)"
      ]
     },
     "execution_count": 66,
     "metadata": {},
     "output_type": "execute_result"
    }
   ],
   "source": [
    "cos_sim_hardness = the_pos[0] * capital_pos[0]\n",
    "cos_sim_brightness = the_pos[1] * capital_pos[1]\n",
    "cos_sim_redness = the_pos[2] * capital_pos[2]\n",
    "cos_sim_blueness = the_pos[3] * capital_pos[3]\n",
    "\n",
    "total_cos_sim = cos_sim_hardness + cos_sim_brightness + cos_sim_redness + cos_sim_blueness\n",
    "\n",
    "cos_sim_hardness, cos_sim_brightness, cos_sim_redness, cos_sim_blueness, total_cos_sim"
   ]
  },
  {
   "cell_type": "code",
   "execution_count": 67,
   "id": "7d6c7905",
   "metadata": {},
   "outputs": [
    {
     "data": {
      "text/plain": [
       "(tensor(5.9084, grad_fn=<AddBackward0>),\n",
       " tensor(0.9915, grad_fn=<AddBackward0>),\n",
       " tensor(1.3112, grad_fn=<AddBackward0>),\n",
       " tensor(-1.0151, grad_fn=<AddBackward0>))"
      ]
     },
     "execution_count": 67,
     "metadata": {},
     "output_type": "execute_result"
    }
   ],
   "source": [
    "cs_0_0 = sentence_meanings[0][0] * sentence_meanings[0][0] + sentence_meanings[0][1] * sentence_meanings[0][1] + sentence_meanings[0][2] * sentence_meanings[0][2] + sentence_meanings[0][3] * sentence_meanings[0][3]\n",
    "cs_0_1 = sentence_meanings[0][0] * sentence_meanings[1][0] + sentence_meanings[0][1] * sentence_meanings[1][1] + sentence_meanings[0][2] * sentence_meanings[1][2] + sentence_meanings[0][3] * sentence_meanings[1][3]\n",
    "cs_0_2 = sentence_meanings[0][0] * sentence_meanings[2][0] + sentence_meanings[0][1] * sentence_meanings[2][1] + sentence_meanings[0][2] * sentence_meanings[2][2] + sentence_meanings[0][3] * sentence_meanings[2][3]\n",
    "cs_0_3 = sentence_meanings[0][0] * sentence_meanings[3][0] + sentence_meanings[0][1] * sentence_meanings[3][1] + sentence_meanings[0][2] * sentence_meanings[3][2] + sentence_meanings[0][3] * sentence_meanings[3][3]\n",
    "\n",
    "cs_0_0, cs_0_1, cs_0_2, cs_0_3"
   ]
  },
  {
   "cell_type": "code",
   "execution_count": 68,
   "id": "26d4c1f8",
   "metadata": {},
   "outputs": [
    {
     "data": {
      "text/plain": [
       "[tensor(5.9084, grad_fn=<AddBackward0>),\n",
       " tensor(0.9915, grad_fn=<AddBackward0>),\n",
       " tensor(1.3112, grad_fn=<AddBackward0>),\n",
       " tensor(-1.0151, grad_fn=<AddBackward0>),\n",
       " tensor(-0.5984, grad_fn=<AddBackward0>),\n",
       " tensor(0.5215, grad_fn=<AddBackward0>),\n",
       " tensor(-2.9568, grad_fn=<AddBackward0>),\n",
       " tensor(1.3844, grad_fn=<AddBackward0>),\n",
       " tensor(3.2495, grad_fn=<AddBackward0>),\n",
       " tensor(1.0536, grad_fn=<AddBackward0>),\n",
       " tensor(-0.7985, grad_fn=<AddBackward0>),\n",
       " tensor(-0.3483, grad_fn=<AddBackward0>),\n",
       " tensor(1.3706, grad_fn=<AddBackward0>),\n",
       " tensor(3.3436, grad_fn=<AddBackward0>),\n",
       " tensor(0.6584, grad_fn=<AddBackward0>),\n",
       " tensor(-1.5429, grad_fn=<AddBackward0>),\n",
       " tensor(-0.9496, grad_fn=<AddBackward0>),\n",
       " tensor(-0.4411, grad_fn=<AddBackward0>),\n",
       " tensor(1.0307, grad_fn=<AddBackward0>),\n",
       " tensor(-3.9441, grad_fn=<AddBackward0>)]"
      ]
     },
     "execution_count": 68,
     "metadata": {},
     "output_type": "execute_result"
    }
   ],
   "source": [
    "the_similarities = []\n",
    "\n",
    "for i in range(sentence_meanings.shape[0]):\n",
    "    cs_the_i = sentence_meanings[0][0] * sentence_meanings[i][0] + sentence_meanings[0][1] * sentence_meanings[i][1] + sentence_meanings[0][2] * sentence_meanings[i][2] + sentence_meanings[0][3] * sentence_meanings[i][3]\n",
    "    the_similarities.append(cs_the_i)\n",
    "\n",
    "the_similarities"
   ]
  },
  {
   "cell_type": "code",
   "execution_count": 69,
   "id": "71956663",
   "metadata": {},
   "outputs": [
    {
     "data": {
      "text/plain": [
       "array([[ 5.90842342e+00,  9.91524994e-01,  1.31123888e+00,\n",
       "        -1.01506197e+00, -5.98358750e-01,  5.21510422e-01,\n",
       "        -2.95679903e+00,  1.38435686e+00,  3.24948168e+00,\n",
       "         1.05356205e+00, -7.98454523e-01, -3.48337382e-01,\n",
       "         1.37064040e+00,  3.34363842e+00,  6.58395648e-01,\n",
       "        -1.54289484e+00, -9.49555039e-01, -4.41114008e-01,\n",
       "         1.03069103e+00, -3.94407916e+00],\n",
       "       [ 9.91524994e-01,  6.48404419e-01, -3.44985247e-01,\n",
       "        -2.12769225e-01, -8.34367216e-01, -3.59468281e-01,\n",
       "        -4.32386786e-01,  6.17068112e-01,  9.22347963e-01,\n",
       "         4.90615070e-01, -5.28138876e-01, -8.62782598e-02,\n",
       "         2.12269612e-02,  9.08997953e-01,  5.62238276e-01,\n",
       "        -9.59949076e-01, -4.58646148e-01, -6.07945383e-01,\n",
       "        -1.72437117e-01, -8.67795944e-01],\n",
       "       [ 1.31123888e+00, -3.44985247e-01,  3.93028903e+00,\n",
       "         9.09577966e-01,  3.04722369e-01,  1.50815845e-02,\n",
       "        -2.63633180e+00, -3.30206811e-01,  6.40884936e-01,\n",
       "         6.56366348e-02,  9.73890662e-01, -5.77501833e-01,\n",
       "        -2.96122313e-01,  1.58385515e-01,  2.21399546e-01,\n",
       "         1.67208898e+00,  1.08302569e+00, -8.54423642e-01,\n",
       "        -1.67996585e-01,  1.33122098e+00],\n",
       "       [-1.01506197e+00, -2.12769225e-01,  9.09577966e-01,\n",
       "         6.48404539e-01, -3.29713002e-02, -2.12769195e-01,\n",
       "        -3.77381563e-01, -3.59468371e-01, -3.26740861e-01,\n",
       "        -5.70987701e-01,  4.89280671e-01, -1.53550178e-01,\n",
       "        -5.28138936e-01, -1.19894338e+00,  2.12269351e-02,\n",
       "         3.71987373e-01,  5.62238336e-01, -3.74763876e-01,\n",
       "        -4.58646148e-01,  1.30889440e+00],\n",
       "       [-5.98358750e-01, -8.34367216e-01,  3.04722369e-01,\n",
       "        -3.29713002e-02,  1.26684380e+00,  6.76223159e-01,\n",
       "         5.87493539e-01, -6.87313974e-01, -1.03674579e+00,\n",
       "        -3.43734592e-01,  5.42169273e-01,  1.66702151e-01,\n",
       "         3.01009268e-01, -5.15657365e-01, -8.11783969e-01,\n",
       "         1.29523122e+00,  3.99986923e-01,  1.05009651e+00,\n",
       "         5.47660232e-01,  4.97629017e-01],\n",
       "       [ 5.21510422e-01, -3.59468281e-01,  1.50815845e-02,\n",
       "        -2.12769195e-01,  6.76223159e-01,  6.48404479e-01,\n",
       "        -8.18477422e-02, -2.12769181e-01, -2.28981227e-02,\n",
       "        -6.19251013e-01,  2.08200961e-01,  8.79937410e-02,\n",
       "         4.89280701e-01, -4.52414393e-01, -5.28138876e-01,\n",
       "        -7.59374499e-02,  2.12269351e-02,  7.51788080e-01,\n",
       "         5.62238276e-01, -6.59397900e-01],\n",
       "       [-2.95679903e+00, -4.32386786e-01, -2.63633180e+00,\n",
       "        -3.77381563e-01,  5.87493539e-01, -8.18477422e-02,\n",
       "         3.16661692e+00, -4.73419756e-01, -2.13697267e+00,\n",
       "         4.64782953e-01, -2.57781386e-01,  5.65252602e-01,\n",
       "        -1.65230826e-01, -2.01884270e-01, -5.41903853e-01,\n",
       "         8.81201804e-01, -2.39942282e-01,  1.01910663e+00,\n",
       "         5.53369522e-04,  9.44294333e-01],\n",
       "       [ 1.38435686e+00,  6.17068112e-01, -3.30206811e-01,\n",
       "        -3.59468371e-01, -6.87313974e-01, -2.12769181e-01,\n",
       "        -4.73419756e-01,  6.48404479e-01,  1.00443661e+00,\n",
       "         6.00232720e-01, -5.62411249e-01, -6.47242516e-02,\n",
       "         2.08200902e-01,  1.21261215e+00,  4.89280701e-01,\n",
       "        -8.92466784e-01, -5.28138876e-01, -4.44660187e-01,\n",
       "         2.12269165e-02, -1.18418312e+00],\n",
       "       [ 3.24948168e+00,  9.22347963e-01,  6.40884936e-01,\n",
       "        -3.26740861e-01, -1.03674579e+00, -2.28981227e-02,\n",
       "        -2.13697267e+00,  1.00443661e+00,  2.36213064e+00,\n",
       "         7.57623911e-02, -5.45966983e-01, -3.16521466e-01,\n",
       "         4.82467175e-01,  1.14806974e+00,  7.06545651e-01,\n",
       "        -1.94431877e+00, -5.90119720e-01, -8.16912293e-01,\n",
       "         1.64124116e-01, -2.27472568e+00],\n",
       "       [ 1.05356205e+00,  4.90615070e-01,  6.56366348e-02,\n",
       "        -5.70987701e-01, -3.43734592e-01, -6.19251013e-01,\n",
       "         4.64782953e-01,  6.00232720e-01,  7.57623911e-02,\n",
       "         2.93869948e+00, -7.38415062e-01,  9.94873047e-03,\n",
       "         6.93359822e-02,  3.89495349e+00,  7.21999347e-01,\n",
       "         1.61611080e+00, -4.70118642e-01, -5.55987597e-01,\n",
       "         2.02722847e-02, -1.05223149e-01],\n",
       "       [-7.98454523e-01, -5.28138876e-01,  9.73890662e-01,\n",
       "         4.89280671e-01,  5.42169273e-01,  2.08200961e-01,\n",
       "        -2.57781386e-01, -5.62411249e-01, -5.45966983e-01,\n",
       "        -7.38415062e-01,  6.48404419e-01, -7.26725757e-02,\n",
       "        -2.12769136e-01, -1.24654949e+00, -3.59468341e-01,\n",
       "         7.12586641e-01,  6.17067993e-01,  1.81856662e-01,\n",
       "        -5.99224418e-02,  1.06484401e+00],\n",
       "       [-3.48337382e-01, -8.62782598e-02, -5.77501833e-01,\n",
       "        -1.53550178e-01,  1.66702151e-01,  8.79937410e-02,\n",
       "         5.65252602e-01, -6.47242516e-02, -3.16521466e-01,\n",
       "         9.94873047e-03, -7.26725757e-02,  1.23763330e-01,\n",
       "         8.33627656e-02, -3.24340463e-02, -1.59728661e-01,\n",
       "         3.06704193e-02, -1.03914097e-01,  3.02407801e-01,\n",
       "         1.08368926e-01, -7.74650872e-02],\n",
       "       [ 1.37064040e+00,  2.12269612e-02, -2.96122313e-01,\n",
       "        -5.28138936e-01,  3.01009268e-01,  4.89280701e-01,\n",
       "        -1.65230826e-01,  2.08200902e-01,  4.82467175e-01,\n",
       "         6.93359822e-02, -2.12769136e-01,  8.33627656e-02,\n",
       "         6.48404479e-01,  6.96249366e-01, -2.12769225e-01,\n",
       "        -3.77136111e-01, -3.59468371e-01,  5.21105826e-01,\n",
       "         6.17068052e-01, -1.37943292e+00],\n",
       "       [ 3.34363842e+00,  9.08997953e-01,  1.58385515e-01,\n",
       "        -1.19894338e+00, -5.15657365e-01, -4.52414393e-01,\n",
       "        -2.01884270e-01,  1.21261215e+00,  1.14806974e+00,\n",
       "         3.89495349e+00, -1.24654949e+00, -3.24340463e-02,\n",
       "         6.96249366e-01,  5.90842295e+00,  9.91524935e-01,\n",
       "         1.31123877e+00, -1.01506209e+00, -5.98358750e-01,\n",
       "         5.21510541e-01, -1.76583028e+00],\n",
       "       [ 6.58395648e-01,  5.62238276e-01,  2.21399546e-01,\n",
       "         2.12269351e-02, -8.11783969e-01, -5.28138876e-01,\n",
       "        -5.41903853e-01,  4.89280701e-01,  7.06545651e-01,\n",
       "         7.21999347e-01, -3.59468341e-01, -1.59728661e-01,\n",
       "        -2.12769225e-01,  9.91524935e-01,  6.48404419e-01,\n",
       "        -3.44985187e-01, -2.12769195e-01, -8.34367394e-01,\n",
       "        -3.59468311e-01, -1.69259071e-01],\n",
       "       [-1.54289484e+00, -9.59949076e-01,  1.67208898e+00,\n",
       "         3.71987373e-01,  1.29523122e+00, -7.59374499e-02,\n",
       "         8.81201804e-01, -8.92466784e-01, -1.94431877e+00,\n",
       "         1.61611080e+00,  7.12586641e-01,  3.06704193e-02,\n",
       "        -3.77136111e-01,  1.31123877e+00, -3.44985187e-01,\n",
       "         3.93028903e+00,  9.09577966e-01,  3.04722369e-01,\n",
       "         1.50815547e-02,  2.65415525e+00],\n",
       "       [-9.49555039e-01, -4.58646148e-01,  1.08302569e+00,\n",
       "         5.62238336e-01,  3.99986923e-01,  2.12269351e-02,\n",
       "        -2.39942282e-01, -5.28138876e-01, -5.90119720e-01,\n",
       "        -4.70118642e-01,  6.17067993e-01, -1.03914097e-01,\n",
       "        -3.59468371e-01, -1.01506209e+00, -2.12769195e-01,\n",
       "         9.09577966e-01,  6.48404479e-01, -3.29712778e-02,\n",
       "        -2.12769166e-01,  1.34406054e+00],\n",
       "       [-4.41114008e-01, -6.07945383e-01, -8.54423642e-01,\n",
       "        -3.74763876e-01,  1.05009651e+00,  7.51788080e-01,\n",
       "         1.01910663e+00, -4.44660187e-01, -8.16912293e-01,\n",
       "        -5.55987597e-01,  1.81856662e-01,  3.02407801e-01,\n",
       "         5.21105826e-01, -5.98358750e-01, -8.34367394e-01,\n",
       "         3.04722369e-01, -3.29712778e-02,  1.26684415e+00,\n",
       "         6.76223218e-01, -3.98768991e-01],\n",
       "       [ 1.03069103e+00, -1.72437117e-01, -1.67996585e-01,\n",
       "        -4.58646148e-01,  5.47660232e-01,  5.62238276e-01,\n",
       "         5.53369522e-04,  2.12269165e-02,  1.64124116e-01,\n",
       "         2.02722847e-02, -5.99224418e-02,  1.08368926e-01,\n",
       "         6.17068052e-01,  5.21510541e-01, -3.59468311e-01,\n",
       "         1.50815547e-02, -2.12769166e-01,  6.76223218e-01,\n",
       "         6.48404479e-01, -1.04235065e+00],\n",
       "       [-3.94407916e+00, -8.67795944e-01,  1.33122098e+00,\n",
       "         1.30889440e+00,  4.97629017e-01, -6.59397900e-01,\n",
       "         9.44294333e-01, -1.18418312e+00, -2.27472568e+00,\n",
       "        -1.05223149e-01,  1.06484401e+00, -7.74650872e-02,\n",
       "        -1.37943292e+00, -1.76583028e+00, -1.69259071e-01,\n",
       "         2.65415525e+00,  1.34406054e+00, -3.98768991e-01,\n",
       "        -1.04235065e+00,  4.16026688e+00]], dtype=float32)"
      ]
     },
     "execution_count": 69,
     "metadata": {},
     "output_type": "execute_result"
    }
   ],
   "source": [
    "all_similarities = torch.zeros(sentence_meanings.shape[0], sentence_meanings.shape[0])\n",
    "for j in range(sentence_meanings.shape[0]):\n",
    "    j_similarities = torch.zeros(sentence_meanings.shape[0])\n",
    "\n",
    "    for i in range(sentence_meanings.shape[0]):\n",
    "        for k in range(sentence_meanings.shape[1]):\n",
    "            cs_j_i = sentence_meanings[j][k] * sentence_meanings[i][k]\n",
    "            j_similarities[i] += cs_j_i\n",
    "\n",
    "    all_similarities[j] = j_similarities\n",
    "\n",
    "all_similarities.detach().numpy()"
   ]
  },
  {
   "cell_type": "code",
   "execution_count": 70,
   "id": "4a3c0f5f",
   "metadata": {},
   "outputs": [
    {
     "data": {
      "text/plain": [
       "tensor([[ 5.9084e+00,  9.9152e-01,  1.3112e+00, -1.0151e+00, -5.9836e-01,\n",
       "          5.2151e-01, -2.9568e+00,  1.3844e+00,  3.2495e+00,  1.0536e+00,\n",
       "         -7.9845e-01, -3.4834e-01,  1.3706e+00,  3.3436e+00,  6.5840e-01,\n",
       "         -1.5429e+00, -9.4956e-01, -4.4111e-01,  1.0307e+00, -3.9441e+00],\n",
       "        [ 9.9152e-01,  6.4840e-01, -3.4499e-01, -2.1277e-01, -8.3437e-01,\n",
       "         -3.5947e-01, -4.3239e-01,  6.1707e-01,  9.2235e-01,  4.9062e-01,\n",
       "         -5.2814e-01, -8.6278e-02,  2.1227e-02,  9.0900e-01,  5.6224e-01,\n",
       "         -9.5995e-01, -4.5865e-01, -6.0795e-01, -1.7244e-01, -8.6780e-01],\n",
       "        [ 1.3112e+00, -3.4499e-01,  3.9303e+00,  9.0958e-01,  3.0472e-01,\n",
       "          1.5082e-02, -2.6363e+00, -3.3021e-01,  6.4088e-01,  6.5637e-02,\n",
       "          9.7389e-01, -5.7750e-01, -2.9612e-01,  1.5839e-01,  2.2140e-01,\n",
       "          1.6721e+00,  1.0830e+00, -8.5442e-01, -1.6800e-01,  1.3312e+00],\n",
       "        [-1.0151e+00, -2.1277e-01,  9.0958e-01,  6.4840e-01, -3.2971e-02,\n",
       "         -2.1277e-01, -3.7738e-01, -3.5947e-01, -3.2674e-01, -5.7099e-01,\n",
       "          4.8928e-01, -1.5355e-01, -5.2814e-01, -1.1989e+00,  2.1227e-02,\n",
       "          3.7199e-01,  5.6224e-01, -3.7476e-01, -4.5865e-01,  1.3089e+00],\n",
       "        [-5.9836e-01, -8.3437e-01,  3.0472e-01, -3.2971e-02,  1.2668e+00,\n",
       "          6.7622e-01,  5.8749e-01, -6.8731e-01, -1.0367e+00, -3.4373e-01,\n",
       "          5.4217e-01,  1.6670e-01,  3.0101e-01, -5.1566e-01, -8.1178e-01,\n",
       "          1.2952e+00,  3.9999e-01,  1.0501e+00,  5.4766e-01,  4.9763e-01],\n",
       "        [ 5.2151e-01, -3.5947e-01,  1.5082e-02, -2.1277e-01,  6.7622e-01,\n",
       "          6.4840e-01, -8.1848e-02, -2.1277e-01, -2.2898e-02, -6.1925e-01,\n",
       "          2.0820e-01,  8.7994e-02,  4.8928e-01, -4.5241e-01, -5.2814e-01,\n",
       "         -7.5937e-02,  2.1227e-02,  7.5179e-01,  5.6224e-01, -6.5940e-01],\n",
       "        [-2.9568e+00, -4.3239e-01, -2.6363e+00, -3.7738e-01,  5.8749e-01,\n",
       "         -8.1848e-02,  3.1666e+00, -4.7342e-01, -2.1370e+00,  4.6478e-01,\n",
       "         -2.5778e-01,  5.6525e-01, -1.6523e-01, -2.0188e-01, -5.4190e-01,\n",
       "          8.8120e-01, -2.3994e-01,  1.0191e+00,  5.5337e-04,  9.4429e-01],\n",
       "        [ 1.3844e+00,  6.1707e-01, -3.3021e-01, -3.5947e-01, -6.8731e-01,\n",
       "         -2.1277e-01, -4.7342e-01,  6.4840e-01,  1.0044e+00,  6.0023e-01,\n",
       "         -5.6241e-01, -6.4724e-02,  2.0820e-01,  1.2126e+00,  4.8928e-01,\n",
       "         -8.9247e-01, -5.2814e-01, -4.4466e-01,  2.1227e-02, -1.1842e+00],\n",
       "        [ 3.2495e+00,  9.2235e-01,  6.4088e-01, -3.2674e-01, -1.0367e+00,\n",
       "         -2.2898e-02, -2.1370e+00,  1.0044e+00,  2.3621e+00,  7.5763e-02,\n",
       "         -5.4597e-01, -3.1652e-01,  4.8247e-01,  1.1481e+00,  7.0655e-01,\n",
       "         -1.9443e+00, -5.9012e-01, -8.1691e-01,  1.6412e-01, -2.2747e+00],\n",
       "        [ 1.0536e+00,  4.9062e-01,  6.5637e-02, -5.7099e-01, -3.4373e-01,\n",
       "         -6.1925e-01,  4.6478e-01,  6.0023e-01,  7.5763e-02,  2.9387e+00,\n",
       "         -7.3842e-01,  9.9487e-03,  6.9336e-02,  3.8950e+00,  7.2200e-01,\n",
       "          1.6161e+00, -4.7012e-01, -5.5599e-01,  2.0272e-02, -1.0522e-01],\n",
       "        [-7.9845e-01, -5.2814e-01,  9.7389e-01,  4.8928e-01,  5.4217e-01,\n",
       "          2.0820e-01, -2.5778e-01, -5.6241e-01, -5.4597e-01, -7.3842e-01,\n",
       "          6.4840e-01, -7.2673e-02, -2.1277e-01, -1.2465e+00, -3.5947e-01,\n",
       "          7.1259e-01,  6.1707e-01,  1.8186e-01, -5.9922e-02,  1.0648e+00],\n",
       "        [-3.4834e-01, -8.6278e-02, -5.7750e-01, -1.5355e-01,  1.6670e-01,\n",
       "          8.7994e-02,  5.6525e-01, -6.4724e-02, -3.1652e-01,  9.9487e-03,\n",
       "         -7.2673e-02,  1.2376e-01,  8.3363e-02, -3.2434e-02, -1.5973e-01,\n",
       "          3.0670e-02, -1.0391e-01,  3.0241e-01,  1.0837e-01, -7.7465e-02],\n",
       "        [ 1.3706e+00,  2.1227e-02, -2.9612e-01, -5.2814e-01,  3.0101e-01,\n",
       "          4.8928e-01, -1.6523e-01,  2.0820e-01,  4.8247e-01,  6.9336e-02,\n",
       "         -2.1277e-01,  8.3363e-02,  6.4840e-01,  6.9625e-01, -2.1277e-01,\n",
       "         -3.7714e-01, -3.5947e-01,  5.2111e-01,  6.1707e-01, -1.3794e+00],\n",
       "        [ 3.3436e+00,  9.0900e-01,  1.5839e-01, -1.1989e+00, -5.1566e-01,\n",
       "         -4.5241e-01, -2.0188e-01,  1.2126e+00,  1.1481e+00,  3.8950e+00,\n",
       "         -1.2465e+00, -3.2434e-02,  6.9625e-01,  5.9084e+00,  9.9152e-01,\n",
       "          1.3112e+00, -1.0151e+00, -5.9836e-01,  5.2151e-01, -1.7658e+00],\n",
       "        [ 6.5840e-01,  5.6224e-01,  2.2140e-01,  2.1227e-02, -8.1178e-01,\n",
       "         -5.2814e-01, -5.4190e-01,  4.8928e-01,  7.0655e-01,  7.2200e-01,\n",
       "         -3.5947e-01, -1.5973e-01, -2.1277e-01,  9.9152e-01,  6.4840e-01,\n",
       "         -3.4499e-01, -2.1277e-01, -8.3437e-01, -3.5947e-01, -1.6926e-01],\n",
       "        [-1.5429e+00, -9.5995e-01,  1.6721e+00,  3.7199e-01,  1.2952e+00,\n",
       "         -7.5937e-02,  8.8120e-01, -8.9247e-01, -1.9443e+00,  1.6161e+00,\n",
       "          7.1259e-01,  3.0670e-02, -3.7714e-01,  1.3112e+00, -3.4499e-01,\n",
       "          3.9303e+00,  9.0958e-01,  3.0472e-01,  1.5082e-02,  2.6542e+00],\n",
       "        [-9.4956e-01, -4.5865e-01,  1.0830e+00,  5.6224e-01,  3.9999e-01,\n",
       "          2.1227e-02, -2.3994e-01, -5.2814e-01, -5.9012e-01, -4.7012e-01,\n",
       "          6.1707e-01, -1.0391e-01, -3.5947e-01, -1.0151e+00, -2.1277e-01,\n",
       "          9.0958e-01,  6.4840e-01, -3.2971e-02, -2.1277e-01,  1.3441e+00],\n",
       "        [-4.4111e-01, -6.0795e-01, -8.5442e-01, -3.7476e-01,  1.0501e+00,\n",
       "          7.5179e-01,  1.0191e+00, -4.4466e-01, -8.1691e-01, -5.5599e-01,\n",
       "          1.8186e-01,  3.0241e-01,  5.2111e-01, -5.9836e-01, -8.3437e-01,\n",
       "          3.0472e-01, -3.2971e-02,  1.2668e+00,  6.7622e-01, -3.9877e-01],\n",
       "        [ 1.0307e+00, -1.7244e-01, -1.6800e-01, -4.5865e-01,  5.4766e-01,\n",
       "          5.6224e-01,  5.5337e-04,  2.1227e-02,  1.6412e-01,  2.0272e-02,\n",
       "         -5.9922e-02,  1.0837e-01,  6.1707e-01,  5.2151e-01, -3.5947e-01,\n",
       "          1.5082e-02, -2.1277e-01,  6.7622e-01,  6.4840e-01, -1.0424e+00],\n",
       "        [-3.9441e+00, -8.6780e-01,  1.3312e+00,  1.3089e+00,  4.9763e-01,\n",
       "         -6.5940e-01,  9.4429e-01, -1.1842e+00, -2.2747e+00, -1.0522e-01,\n",
       "          1.0648e+00, -7.7465e-02, -1.3794e+00, -1.7658e+00, -1.6926e-01,\n",
       "          2.6542e+00,  1.3441e+00, -3.9877e-01, -1.0424e+00,  4.1603e+00]],\n",
       "       grad_fn=<MmBackward0>)"
      ]
     },
     "execution_count": 70,
     "metadata": {},
     "output_type": "execute_result"
    }
   ],
   "source": [
    "all_sim_torch = sentence_meanings @ sentence_meanings.T\n",
    "all_sim_torch"
   ]
  },
  {
   "cell_type": "code",
   "execution_count": 71,
   "id": "b13bcb67",
   "metadata": {},
   "outputs": [],
   "source": [
    "attention_weights = torch.softmax(all_similarities, dim=1)"
   ]
  },
  {
   "cell_type": "code",
   "execution_count": 72,
   "id": "05867e02",
   "metadata": {},
   "outputs": [],
   "source": [
    "sentence_context_vector = attention_weights @ sentence_meanings"
   ]
  },
  {
   "cell_type": "code",
   "execution_count": 73,
   "id": "0e985539",
   "metadata": {},
   "outputs": [],
   "source": [
    "sentence_meanings_without_pos = u_model.embedding(tokens)"
   ]
  },
  {
   "cell_type": "code",
   "execution_count": 53,
   "id": "d353acb0",
   "metadata": {},
   "outputs": [],
   "source": [
    "u_sentences = [\n",
    "    {\n",
    "    \"words\": sentence_meanings_without_pos.detach().numpy(),\n",
    "    \"labels\": u_tokenizer.tokenize(prompt),\n",
    "    \"color\": \"blue\",\n",
    "    },\n",
    "    {\n",
    "    \"words\": sentence_meanings.detach().numpy(),\n",
    "    \"labels\": u_tokenizer.tokenize(prompt),\n",
    "    \"color\": \"purple\",\n",
    "    },\n",
    "    {\n",
    "    \"words\": sentence_context_vector.detach().numpy(),\n",
    "    \"labels\": u_tokenizer.tokenize(prompt),\n",
    "    \"color\": \"orange\",\n",
    "    },\n",
    "]\n",
    "\n",
    "plot_tokens(u_sentences, \"Models Attention Sentence Space\")\n"
   ]
  }
 ],
 "metadata": {
  "kernelspec": {
   "display_name": "Python 3",
   "language": "python",
   "name": "python3"
  },
  "language_info": {
   "codemirror_mode": {
    "name": "ipython",
    "version": 3
   },
   "file_extension": ".py",
   "mimetype": "text/x-python",
   "name": "python",
   "nbconvert_exporter": "python",
   "pygments_lexer": "ipython3",
   "version": "3.13.5"
  }
 },
 "nbformat": 4,
 "nbformat_minor": 5
}
